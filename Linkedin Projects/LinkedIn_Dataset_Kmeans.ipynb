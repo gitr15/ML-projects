{
 "cells": [
  {
   "cell_type": "code",
   "execution_count": 196,
   "metadata": {},
   "outputs": [],
   "source": [
    "#import all packages required\n",
    "import numpy as np\n",
    "import pandas as pd\n",
    "import json\n",
    "import os\n",
    "import matplotlib.pyplot as plt"
   ]
  },
  {
   "cell_type": "code",
   "execution_count": 197,
   "metadata": {},
   "outputs": [],
   "source": [
    "data=pd.read_json('linkedin_subset.json')"
   ]
  },
  {
   "cell_type": "code",
   "execution_count": 198,
   "metadata": {},
   "outputs": [
    {
     "data": {
      "text/html": [
       "<div>\n",
       "<style scoped>\n",
       "    .dataframe tbody tr th:only-of-type {\n",
       "        vertical-align: middle;\n",
       "    }\n",
       "\n",
       "    .dataframe tbody tr th {\n",
       "        vertical-align: top;\n",
       "    }\n",
       "\n",
       "    .dataframe thead th {\n",
       "        text-align: right;\n",
       "    }\n",
       "</style>\n",
       "<table border=\"1\" class=\"dataframe\">\n",
       "  <thead>\n",
       "    <tr style=\"text-align: right;\">\n",
       "      <th></th>\n",
       "      <th>_id</th>\n",
       "      <th>awards</th>\n",
       "      <th>certifications</th>\n",
       "      <th>courses</th>\n",
       "      <th>created_date</th>\n",
       "      <th>designation</th>\n",
       "      <th>education</th>\n",
       "      <th>experience</th>\n",
       "      <th>groups</th>\n",
       "      <th>interests</th>\n",
       "      <th>...</th>\n",
       "      <th>patents</th>\n",
       "      <th>personalInfo</th>\n",
       "      <th>projects</th>\n",
       "      <th>publications</th>\n",
       "      <th>query_company</th>\n",
       "      <th>recomendations</th>\n",
       "      <th>skills</th>\n",
       "      <th>url</th>\n",
       "      <th>version</th>\n",
       "      <th>volunteering</th>\n",
       "    </tr>\n",
       "  </thead>\n",
       "  <tbody>\n",
       "    <tr>\n",
       "      <th>0</th>\n",
       "      <td>{'$oid': '5920ad0a4893c245d7862fc7'}</td>\n",
       "      <td>[]</td>\n",
       "      <td>[]</td>\n",
       "      <td>NaN</td>\n",
       "      <td>{'$date': '2017-05-20T20:54:34.377Z'}</td>\n",
       "      <td>Senior Associate, Hiring at Sapient Global Mar...</td>\n",
       "      <td>[{'company': 'MBA, Marketing, Finance, HRMBA, ...</td>\n",
       "      <td>[{'company': 'Sapient Global Markets', 'locati...</td>\n",
       "      <td>[{'name': 'PostgreSQL Professionals'}, {'name'...</td>\n",
       "      <td>[]</td>\n",
       "      <td>...</td>\n",
       "      <td>[]</td>\n",
       "      <td>{'industry': 'Human Resources', 'summary': 'Ar...</td>\n",
       "      <td>[]</td>\n",
       "      <td>NaN</td>\n",
       "      <td>Intel</td>\n",
       "      <td>[{'description': 'Narayan is an excellent cons...</td>\n",
       "      <td>[]</td>\n",
       "      <td>https://in.linkedin.com/in/narayanshetti</td>\n",
       "      <td>NaN</td>\n",
       "      <td>[]</td>\n",
       "    </tr>\n",
       "    <tr>\n",
       "      <th>1</th>\n",
       "      <td>{'$oid': '591f14fd2fdc28744c530c49'}</td>\n",
       "      <td>[]</td>\n",
       "      <td>[]</td>\n",
       "      <td>NaN</td>\n",
       "      <td>{'$date': '2017-05-19T15:53:32.700Z'}</td>\n",
       "      <td>Electrical Engineer</td>\n",
       "      <td>[{'company': 'Bachelor of Engineering (B.E.), ...</td>\n",
       "      <td>[]</td>\n",
       "      <td>[]</td>\n",
       "      <td>[]</td>\n",
       "      <td>...</td>\n",
       "      <td>[]</td>\n",
       "      <td>{'name': 'RAKESH MULEY', 'designation': 'Elect...</td>\n",
       "      <td>[]</td>\n",
       "      <td>NaN</td>\n",
       "      <td>Jet Airways (India) Ltd.</td>\n",
       "      <td>[]</td>\n",
       "      <td>[]</td>\n",
       "      <td>https://in.linkedin.com/in/rakesh-muley-371781136</td>\n",
       "      <td>NaN</td>\n",
       "      <td>[]</td>\n",
       "    </tr>\n",
       "    <tr>\n",
       "      <th>2</th>\n",
       "      <td>{'$oid': '59273c65bfddd748d8c1118a'}</td>\n",
       "      <td>[]</td>\n",
       "      <td>[]</td>\n",
       "      <td>[]</td>\n",
       "      <td>{'$date': '2017-05-25T20:19:49.113Z'}</td>\n",
       "      <td>--</td>\n",
       "      <td>[]</td>\n",
       "      <td>[]</td>\n",
       "      <td>[]</td>\n",
       "      <td>[]</td>\n",
       "      <td>...</td>\n",
       "      <td>[]</td>\n",
       "      <td>{'name': 'Sujiya Suji', 'designation': '--', '...</td>\n",
       "      <td>[]</td>\n",
       "      <td>[]</td>\n",
       "      <td>Analog Devices</td>\n",
       "      <td>[]</td>\n",
       "      <td>[]</td>\n",
       "      <td>https://in.linkedin.com/in/sujiya-suji-13557b11b</td>\n",
       "      <td>2.0</td>\n",
       "      <td>[]</td>\n",
       "    </tr>\n",
       "    <tr>\n",
       "      <th>3</th>\n",
       "      <td>{'$oid': '59293f0bf01bb93f05ef132e'}</td>\n",
       "      <td>[]</td>\n",
       "      <td>[]</td>\n",
       "      <td>[]</td>\n",
       "      <td>{'$date': '2017-05-27T08:55:38.833Z'}</td>\n",
       "      <td>--</td>\n",
       "      <td>[]</td>\n",
       "      <td>[]</td>\n",
       "      <td>[]</td>\n",
       "      <td>[]</td>\n",
       "      <td>...</td>\n",
       "      <td>[]</td>\n",
       "      <td>{'name': 'Gupta Vinu', 'designation': '--', 'l...</td>\n",
       "      <td>[]</td>\n",
       "      <td>[]</td>\n",
       "      <td>SCA</td>\n",
       "      <td>[]</td>\n",
       "      <td>[]</td>\n",
       "      <td>https://in.linkedin.com/in/gupta-vinu-3b1974127</td>\n",
       "      <td>2.0</td>\n",
       "      <td>[]</td>\n",
       "    </tr>\n",
       "    <tr>\n",
       "      <th>4</th>\n",
       "      <td>{'$oid': '5931b268485ed579697bc8b3'}</td>\n",
       "      <td>[]</td>\n",
       "      <td>[]</td>\n",
       "      <td>[]</td>\n",
       "      <td>{'$date': '2017-06-02T18:46:00.029Z'}</td>\n",
       "      <td>--</td>\n",
       "      <td>[]</td>\n",
       "      <td>[]</td>\n",
       "      <td>[]</td>\n",
       "      <td>[]</td>\n",
       "      <td>...</td>\n",
       "      <td>[]</td>\n",
       "      <td>{'name': 'santosh gn', 'designation': '--', 'l...</td>\n",
       "      <td>[]</td>\n",
       "      <td>[]</td>\n",
       "      <td>Marlabs</td>\n",
       "      <td>[]</td>\n",
       "      <td>[]</td>\n",
       "      <td>https://in.linkedin.com/in/santosh-gn-42aa41a8</td>\n",
       "      <td>2.0</td>\n",
       "      <td>[]</td>\n",
       "    </tr>\n",
       "  </tbody>\n",
       "</table>\n",
       "<p>5 rows × 23 columns</p>\n",
       "</div>"
      ],
      "text/plain": [
       "                                    _id awards certifications courses  \\\n",
       "0  {'$oid': '5920ad0a4893c245d7862fc7'}     []             []     NaN   \n",
       "1  {'$oid': '591f14fd2fdc28744c530c49'}     []             []     NaN   \n",
       "2  {'$oid': '59273c65bfddd748d8c1118a'}     []             []      []   \n",
       "3  {'$oid': '59293f0bf01bb93f05ef132e'}     []             []      []   \n",
       "4  {'$oid': '5931b268485ed579697bc8b3'}     []             []      []   \n",
       "\n",
       "                            created_date  \\\n",
       "0  {'$date': '2017-05-20T20:54:34.377Z'}   \n",
       "1  {'$date': '2017-05-19T15:53:32.700Z'}   \n",
       "2  {'$date': '2017-05-25T20:19:49.113Z'}   \n",
       "3  {'$date': '2017-05-27T08:55:38.833Z'}   \n",
       "4  {'$date': '2017-06-02T18:46:00.029Z'}   \n",
       "\n",
       "                                         designation  \\\n",
       "0  Senior Associate, Hiring at Sapient Global Mar...   \n",
       "1                                Electrical Engineer   \n",
       "2                                                 --   \n",
       "3                                                 --   \n",
       "4                                                 --   \n",
       "\n",
       "                                           education  \\\n",
       "0  [{'company': 'MBA, Marketing, Finance, HRMBA, ...   \n",
       "1  [{'company': 'Bachelor of Engineering (B.E.), ...   \n",
       "2                                                 []   \n",
       "3                                                 []   \n",
       "4                                                 []   \n",
       "\n",
       "                                          experience  \\\n",
       "0  [{'company': 'Sapient Global Markets', 'locati...   \n",
       "1                                                 []   \n",
       "2                                                 []   \n",
       "3                                                 []   \n",
       "4                                                 []   \n",
       "\n",
       "                                              groups interests     ...       \\\n",
       "0  [{'name': 'PostgreSQL Professionals'}, {'name'...        []     ...        \n",
       "1                                                 []        []     ...        \n",
       "2                                                 []        []     ...        \n",
       "3                                                 []        []     ...        \n",
       "4                                                 []        []     ...        \n",
       "\n",
       "  patents                                       personalInfo projects  \\\n",
       "0      []  {'industry': 'Human Resources', 'summary': 'Ar...       []   \n",
       "1      []  {'name': 'RAKESH MULEY', 'designation': 'Elect...       []   \n",
       "2      []  {'name': 'Sujiya Suji', 'designation': '--', '...       []   \n",
       "3      []  {'name': 'Gupta Vinu', 'designation': '--', 'l...       []   \n",
       "4      []  {'name': 'santosh gn', 'designation': '--', 'l...       []   \n",
       "\n",
       "  publications             query_company  \\\n",
       "0          NaN                     Intel   \n",
       "1          NaN  Jet Airways (India) Ltd.   \n",
       "2           []            Analog Devices   \n",
       "3           []                       SCA   \n",
       "4           []                   Marlabs   \n",
       "\n",
       "                                      recomendations skills  \\\n",
       "0  [{'description': 'Narayan is an excellent cons...     []   \n",
       "1                                                 []     []   \n",
       "2                                                 []     []   \n",
       "3                                                 []     []   \n",
       "4                                                 []     []   \n",
       "\n",
       "                                                 url version volunteering  \n",
       "0           https://in.linkedin.com/in/narayanshetti     NaN           []  \n",
       "1  https://in.linkedin.com/in/rakesh-muley-371781136     NaN           []  \n",
       "2   https://in.linkedin.com/in/sujiya-suji-13557b11b     2.0           []  \n",
       "3    https://in.linkedin.com/in/gupta-vinu-3b1974127     2.0           []  \n",
       "4     https://in.linkedin.com/in/santosh-gn-42aa41a8     2.0           []  \n",
       "\n",
       "[5 rows x 23 columns]"
      ]
     },
     "execution_count": 198,
     "metadata": {},
     "output_type": "execute_result"
    }
   ],
   "source": [
    "data.head()"
   ]
  },
  {
   "cell_type": "code",
   "execution_count": 199,
   "metadata": {},
   "outputs": [
    {
     "name": "stdout",
     "output_type": "stream",
     "text": [
      "<class 'pandas.core.frame.DataFrame'>\n",
      "RangeIndex: 20000 entries, 0 to 19999\n",
      "Data columns (total 23 columns):\n",
      "_id               20000 non-null object\n",
      "awards            20000 non-null object\n",
      "certifications    20000 non-null object\n",
      "courses           11978 non-null object\n",
      "created_date      20000 non-null object\n",
      "designation       20000 non-null object\n",
      "education         20000 non-null object\n",
      "experience        20000 non-null object\n",
      "groups            20000 non-null object\n",
      "interests         20000 non-null object\n",
      "languages         20000 non-null object\n",
      "name              20000 non-null object\n",
      "organizations     11978 non-null object\n",
      "patents           20000 non-null object\n",
      "personalInfo      20000 non-null object\n",
      "projects          20000 non-null object\n",
      "publications      11978 non-null object\n",
      "query_company     20000 non-null object\n",
      "recomendations    20000 non-null object\n",
      "skills            20000 non-null object\n",
      "url               20000 non-null object\n",
      "version           11978 non-null float64\n",
      "volunteering      20000 non-null object\n",
      "dtypes: float64(1), object(22)\n",
      "memory usage: 3.5+ MB\n"
     ]
    }
   ],
   "source": [
    "data.info()"
   ]
  },
  {
   "cell_type": "code",
   "execution_count": 200,
   "metadata": {},
   "outputs": [
    {
     "data": {
      "text/html": [
       "<div>\n",
       "<style scoped>\n",
       "    .dataframe tbody tr th:only-of-type {\n",
       "        vertical-align: middle;\n",
       "    }\n",
       "\n",
       "    .dataframe tbody tr th {\n",
       "        vertical-align: top;\n",
       "    }\n",
       "\n",
       "    .dataframe thead th {\n",
       "        text-align: right;\n",
       "    }\n",
       "</style>\n",
       "<table border=\"1\" class=\"dataframe\">\n",
       "  <thead>\n",
       "    <tr style=\"text-align: right;\">\n",
       "      <th></th>\n",
       "      <th>total_missing</th>\n",
       "      <th>perc_missing</th>\n",
       "    </tr>\n",
       "  </thead>\n",
       "  <tbody>\n",
       "    <tr>\n",
       "      <th>_id</th>\n",
       "      <td>0</td>\n",
       "      <td>0.00</td>\n",
       "    </tr>\n",
       "    <tr>\n",
       "      <th>awards</th>\n",
       "      <td>0</td>\n",
       "      <td>0.00</td>\n",
       "    </tr>\n",
       "    <tr>\n",
       "      <th>certifications</th>\n",
       "      <td>0</td>\n",
       "      <td>0.00</td>\n",
       "    </tr>\n",
       "    <tr>\n",
       "      <th>courses</th>\n",
       "      <td>8022</td>\n",
       "      <td>40.11</td>\n",
       "    </tr>\n",
       "    <tr>\n",
       "      <th>created_date</th>\n",
       "      <td>0</td>\n",
       "      <td>0.00</td>\n",
       "    </tr>\n",
       "    <tr>\n",
       "      <th>designation</th>\n",
       "      <td>0</td>\n",
       "      <td>0.00</td>\n",
       "    </tr>\n",
       "    <tr>\n",
       "      <th>education</th>\n",
       "      <td>0</td>\n",
       "      <td>0.00</td>\n",
       "    </tr>\n",
       "    <tr>\n",
       "      <th>experience</th>\n",
       "      <td>0</td>\n",
       "      <td>0.00</td>\n",
       "    </tr>\n",
       "    <tr>\n",
       "      <th>groups</th>\n",
       "      <td>0</td>\n",
       "      <td>0.00</td>\n",
       "    </tr>\n",
       "    <tr>\n",
       "      <th>interests</th>\n",
       "      <td>0</td>\n",
       "      <td>0.00</td>\n",
       "    </tr>\n",
       "    <tr>\n",
       "      <th>languages</th>\n",
       "      <td>0</td>\n",
       "      <td>0.00</td>\n",
       "    </tr>\n",
       "    <tr>\n",
       "      <th>name</th>\n",
       "      <td>0</td>\n",
       "      <td>0.00</td>\n",
       "    </tr>\n",
       "    <tr>\n",
       "      <th>organizations</th>\n",
       "      <td>8022</td>\n",
       "      <td>40.11</td>\n",
       "    </tr>\n",
       "    <tr>\n",
       "      <th>patents</th>\n",
       "      <td>0</td>\n",
       "      <td>0.00</td>\n",
       "    </tr>\n",
       "    <tr>\n",
       "      <th>personalInfo</th>\n",
       "      <td>0</td>\n",
       "      <td>0.00</td>\n",
       "    </tr>\n",
       "    <tr>\n",
       "      <th>projects</th>\n",
       "      <td>0</td>\n",
       "      <td>0.00</td>\n",
       "    </tr>\n",
       "    <tr>\n",
       "      <th>publications</th>\n",
       "      <td>8022</td>\n",
       "      <td>40.11</td>\n",
       "    </tr>\n",
       "    <tr>\n",
       "      <th>query_company</th>\n",
       "      <td>0</td>\n",
       "      <td>0.00</td>\n",
       "    </tr>\n",
       "    <tr>\n",
       "      <th>recomendations</th>\n",
       "      <td>0</td>\n",
       "      <td>0.00</td>\n",
       "    </tr>\n",
       "    <tr>\n",
       "      <th>skills</th>\n",
       "      <td>0</td>\n",
       "      <td>0.00</td>\n",
       "    </tr>\n",
       "    <tr>\n",
       "      <th>url</th>\n",
       "      <td>0</td>\n",
       "      <td>0.00</td>\n",
       "    </tr>\n",
       "    <tr>\n",
       "      <th>version</th>\n",
       "      <td>8022</td>\n",
       "      <td>40.11</td>\n",
       "    </tr>\n",
       "    <tr>\n",
       "      <th>volunteering</th>\n",
       "      <td>0</td>\n",
       "      <td>0.00</td>\n",
       "    </tr>\n",
       "  </tbody>\n",
       "</table>\n",
       "</div>"
      ],
      "text/plain": [
       "                total_missing  perc_missing\n",
       "_id                         0          0.00\n",
       "awards                      0          0.00\n",
       "certifications              0          0.00\n",
       "courses                  8022         40.11\n",
       "created_date                0          0.00\n",
       "designation                 0          0.00\n",
       "education                   0          0.00\n",
       "experience                  0          0.00\n",
       "groups                      0          0.00\n",
       "interests                   0          0.00\n",
       "languages                   0          0.00\n",
       "name                        0          0.00\n",
       "organizations            8022         40.11\n",
       "patents                     0          0.00\n",
       "personalInfo                0          0.00\n",
       "projects                    0          0.00\n",
       "publications             8022         40.11\n",
       "query_company               0          0.00\n",
       "recomendations              0          0.00\n",
       "skills                      0          0.00\n",
       "url                         0          0.00\n",
       "version                  8022         40.11\n",
       "volunteering                0          0.00"
      ]
     },
     "execution_count": 200,
     "metadata": {},
     "output_type": "execute_result"
    }
   ],
   "source": [
    "missing_data = pd.DataFrame({'total_missing': data.isnull().sum(), 'perc_missing': (data.isnull().sum()/data_len)*100})\n",
    "missing_data"
   ]
  },
  {
   "cell_type": "code",
   "execution_count": 201,
   "metadata": {},
   "outputs": [],
   "source": [
    "train=data.drop(['_id','created_date','url','version','name','interests','personalInfo','query_company'],axis=1)"
   ]
  },
  {
   "cell_type": "code",
   "execution_count": 202,
   "metadata": {},
   "outputs": [
    {
     "data": {
      "text/html": [
       "<div>\n",
       "<style scoped>\n",
       "    .dataframe tbody tr th:only-of-type {\n",
       "        vertical-align: middle;\n",
       "    }\n",
       "\n",
       "    .dataframe tbody tr th {\n",
       "        vertical-align: top;\n",
       "    }\n",
       "\n",
       "    .dataframe thead th {\n",
       "        text-align: right;\n",
       "    }\n",
       "</style>\n",
       "<table border=\"1\" class=\"dataframe\">\n",
       "  <thead>\n",
       "    <tr style=\"text-align: right;\">\n",
       "      <th></th>\n",
       "      <th>awards</th>\n",
       "      <th>certifications</th>\n",
       "      <th>courses</th>\n",
       "      <th>designation</th>\n",
       "      <th>education</th>\n",
       "      <th>experience</th>\n",
       "      <th>groups</th>\n",
       "      <th>languages</th>\n",
       "      <th>organizations</th>\n",
       "      <th>patents</th>\n",
       "      <th>projects</th>\n",
       "      <th>publications</th>\n",
       "      <th>recomendations</th>\n",
       "      <th>skills</th>\n",
       "      <th>volunteering</th>\n",
       "    </tr>\n",
       "  </thead>\n",
       "  <tbody>\n",
       "    <tr>\n",
       "      <th>0</th>\n",
       "      <td>[]</td>\n",
       "      <td>[]</td>\n",
       "      <td>NaN</td>\n",
       "      <td>Senior Associate, Hiring at Sapient Global Mar...</td>\n",
       "      <td>[{'company': 'MBA, Marketing, Finance, HRMBA, ...</td>\n",
       "      <td>[{'company': 'Sapient Global Markets', 'locati...</td>\n",
       "      <td>[{'name': 'PostgreSQL Professionals'}, {'name'...</td>\n",
       "      <td>[]</td>\n",
       "      <td>NaN</td>\n",
       "      <td>[]</td>\n",
       "      <td>[]</td>\n",
       "      <td>NaN</td>\n",
       "      <td>[{'description': 'Narayan is an excellent cons...</td>\n",
       "      <td>[]</td>\n",
       "      <td>[]</td>\n",
       "    </tr>\n",
       "    <tr>\n",
       "      <th>1</th>\n",
       "      <td>[]</td>\n",
       "      <td>[]</td>\n",
       "      <td>NaN</td>\n",
       "      <td>Electrical Engineer</td>\n",
       "      <td>[{'company': 'Bachelor of Engineering (B.E.), ...</td>\n",
       "      <td>[]</td>\n",
       "      <td>[]</td>\n",
       "      <td>[]</td>\n",
       "      <td>NaN</td>\n",
       "      <td>[]</td>\n",
       "      <td>[]</td>\n",
       "      <td>NaN</td>\n",
       "      <td>[]</td>\n",
       "      <td>[]</td>\n",
       "      <td>[]</td>\n",
       "    </tr>\n",
       "    <tr>\n",
       "      <th>2</th>\n",
       "      <td>[]</td>\n",
       "      <td>[]</td>\n",
       "      <td>[]</td>\n",
       "      <td>--</td>\n",
       "      <td>[]</td>\n",
       "      <td>[]</td>\n",
       "      <td>[]</td>\n",
       "      <td>[]</td>\n",
       "      <td>[]</td>\n",
       "      <td>[]</td>\n",
       "      <td>[]</td>\n",
       "      <td>[]</td>\n",
       "      <td>[]</td>\n",
       "      <td>[]</td>\n",
       "      <td>[]</td>\n",
       "    </tr>\n",
       "    <tr>\n",
       "      <th>3</th>\n",
       "      <td>[]</td>\n",
       "      <td>[]</td>\n",
       "      <td>[]</td>\n",
       "      <td>--</td>\n",
       "      <td>[]</td>\n",
       "      <td>[]</td>\n",
       "      <td>[]</td>\n",
       "      <td>[]</td>\n",
       "      <td>[]</td>\n",
       "      <td>[]</td>\n",
       "      <td>[]</td>\n",
       "      <td>[]</td>\n",
       "      <td>[]</td>\n",
       "      <td>[]</td>\n",
       "      <td>[]</td>\n",
       "    </tr>\n",
       "    <tr>\n",
       "      <th>4</th>\n",
       "      <td>[]</td>\n",
       "      <td>[]</td>\n",
       "      <td>[]</td>\n",
       "      <td>--</td>\n",
       "      <td>[]</td>\n",
       "      <td>[]</td>\n",
       "      <td>[]</td>\n",
       "      <td>[]</td>\n",
       "      <td>[]</td>\n",
       "      <td>[]</td>\n",
       "      <td>[]</td>\n",
       "      <td>[]</td>\n",
       "      <td>[]</td>\n",
       "      <td>[]</td>\n",
       "      <td>[]</td>\n",
       "    </tr>\n",
       "  </tbody>\n",
       "</table>\n",
       "</div>"
      ],
      "text/plain": [
       "  awards certifications courses  \\\n",
       "0     []             []     NaN   \n",
       "1     []             []     NaN   \n",
       "2     []             []      []   \n",
       "3     []             []      []   \n",
       "4     []             []      []   \n",
       "\n",
       "                                         designation  \\\n",
       "0  Senior Associate, Hiring at Sapient Global Mar...   \n",
       "1                                Electrical Engineer   \n",
       "2                                                 --   \n",
       "3                                                 --   \n",
       "4                                                 --   \n",
       "\n",
       "                                           education  \\\n",
       "0  [{'company': 'MBA, Marketing, Finance, HRMBA, ...   \n",
       "1  [{'company': 'Bachelor of Engineering (B.E.), ...   \n",
       "2                                                 []   \n",
       "3                                                 []   \n",
       "4                                                 []   \n",
       "\n",
       "                                          experience  \\\n",
       "0  [{'company': 'Sapient Global Markets', 'locati...   \n",
       "1                                                 []   \n",
       "2                                                 []   \n",
       "3                                                 []   \n",
       "4                                                 []   \n",
       "\n",
       "                                              groups languages organizations  \\\n",
       "0  [{'name': 'PostgreSQL Professionals'}, {'name'...        []           NaN   \n",
       "1                                                 []        []           NaN   \n",
       "2                                                 []        []            []   \n",
       "3                                                 []        []            []   \n",
       "4                                                 []        []            []   \n",
       "\n",
       "  patents projects publications  \\\n",
       "0      []       []          NaN   \n",
       "1      []       []          NaN   \n",
       "2      []       []           []   \n",
       "3      []       []           []   \n",
       "4      []       []           []   \n",
       "\n",
       "                                      recomendations skills volunteering  \n",
       "0  [{'description': 'Narayan is an excellent cons...     []           []  \n",
       "1                                                 []     []           []  \n",
       "2                                                 []     []           []  \n",
       "3                                                 []     []           []  \n",
       "4                                                 []     []           []  "
      ]
     },
     "execution_count": 202,
     "metadata": {},
     "output_type": "execute_result"
    }
   ],
   "source": [
    "train.head()"
   ]
  },
  {
   "cell_type": "code",
   "execution_count": 203,
   "metadata": {},
   "outputs": [],
   "source": [
    "#for awards column how many awards achieved ....greater the awards greater the profile strength\n",
    "count=0\n",
    "for i in range(len(train['awards'])):\n",
    "    if train['awards'][i] ==[]:\n",
    "        train['awards'][i]=0\n",
    "        count=count+1\n",
    "    else:\n",
    "        train['awards'][i]=len(train['awards'][i])"
   ]
  },
  {
   "cell_type": "code",
   "execution_count": 204,
   "metadata": {},
   "outputs": [
    {
     "data": {
      "text/plain": [
       "0     19674\n",
       "1       142\n",
       "2        67\n",
       "3        51\n",
       "4        22\n",
       "5        16\n",
       "7        10\n",
       "6         7\n",
       "12        2\n",
       "10        2\n",
       "9         2\n",
       "8         2\n",
       "52        1\n",
       "14        1\n",
       "11        1\n",
       "Name: awards, dtype: int64"
      ]
     },
     "execution_count": 204,
     "metadata": {},
     "output_type": "execute_result"
    }
   ],
   "source": [
    "train['awards'].value_counts()"
   ]
  },
  {
   "cell_type": "code",
   "execution_count": 205,
   "metadata": {},
   "outputs": [
    {
     "data": {
      "text/plain": [
       "0    18969\n",
       "1     1031\n",
       "Name: certifications, dtype: int64"
      ]
     },
     "execution_count": 205,
     "metadata": {},
     "output_type": "execute_result"
    }
   ],
   "source": [
    "#analyze of certifications categorical variable certifications mentioned or not\n",
    "count=0\n",
    "for i in range(len(train['certifications'])):\n",
    "    if train['certifications'][i] ==[]:   #agr aisa hai to\n",
    "        train['certifications'][i]=0      #usko zero kr dega\n",
    "        count=count+1                      #fir usko count krega\n",
    "    else:\n",
    "        train['certifications'][i]=1    #fer aise hi 1 hai to\n",
    "train['certifications'].value_counts()"
   ]
  },
  {
   "cell_type": "code",
   "execution_count": 206,
   "metadata": {},
   "outputs": [
    {
     "data": {
      "text/plain": [
       "0    19760\n",
       "1      240\n",
       "Name: courses, dtype: int64"
      ]
     },
     "execution_count": 206,
     "metadata": {},
     "output_type": "execute_result"
    }
   ],
   "source": [
    "#Fill the NAN values with 'Unknown' then categorise as 0/1 courses taken/not\n",
    "train.courses = train.courses.fillna('Unknown')\n",
    "count=0\n",
    "counter=0\n",
    "for i in range(len(train['courses'])):\n",
    "    if train['courses'][i] ==[] or  train['courses'][i]=='Unknown':\n",
    "        train['courses'][i]=0\n",
    "        count=count+1\n",
    "    else:\n",
    "        train['courses'][i]=1#=len(train['awards'][i])\n",
    "        #print(i)\n",
    "train['courses'].value_counts()"
   ]
  },
  {
   "cell_type": "code",
   "execution_count": 207,
   "metadata": {},
   "outputs": [
    {
     "data": {
      "text/plain": [
       "0    10205\n",
       "1     9795\n",
       "Name: designation, dtype: int64"
      ]
     },
     "execution_count": 207,
     "metadata": {},
     "output_type": "execute_result"
    }
   ],
   "source": [
    "#Designation mentioned or not if mentioned profile strength good else no\n",
    "count=0\n",
    "counter=0\n",
    "for i in range(len(train['designation'])):\n",
    "    if train['designation'][i] == '--' :\n",
    "        train['designation'][i]=0\n",
    "        count=count+1\n",
    "    else:\n",
    "        train['designation'][i]=1#=len(train['awards'][i])\n",
    "        #print(i)\n",
    "\n",
    "train['designation'].value_counts()"
   ]
  },
  {
   "cell_type": "code",
   "execution_count": 208,
   "metadata": {},
   "outputs": [
    {
     "data": {
      "text/plain": [
       "0    11801\n",
       "1     8199\n",
       "Name: education, dtype: int64"
      ]
     },
     "execution_count": 208,
     "metadata": {},
     "output_type": "execute_result"
    }
   ],
   "source": [
    "#education data present or not (0/1)\n",
    "count=0\n",
    "counter=0\n",
    "for i in range(len(train['education'])):\n",
    "    if train['education'][i] == [] :\n",
    "        train['education'][i]=0\n",
    "        count=count+1\n",
    "    else:\n",
    "        train['education'][i]=1#=len(train['awards'][i])\n",
    " #       print(i)\n",
    "        \n",
    "train['education'].value_counts()"
   ]
  },
  {
   "cell_type": "code",
   "execution_count": 209,
   "metadata": {},
   "outputs": [
    {
     "data": {
      "text/plain": [
       "0     10083\n",
       "1      4398\n",
       "2      2011\n",
       "3      1417\n",
       "4       862\n",
       "5       523\n",
       "6       315\n",
       "7       163\n",
       "8        96\n",
       "9        62\n",
       "10       27\n",
       "11       16\n",
       "12       12\n",
       "13        6\n",
       "14        6\n",
       "23        1\n",
       "16        1\n",
       "28        1\n",
       "Name: experience, dtype: int64"
      ]
     },
     "execution_count": 209,
     "metadata": {},
     "output_type": "execute_result"
    }
   ],
   "source": [
    "#For Experience more number of experiences higher the profile strength\n",
    "count=0\n",
    "counter=0\n",
    "for i in range(len(train['experience'])):\n",
    "    if train['experience'][i] == [] :\n",
    "        train['experience'][i]=0\n",
    "        count=count+1\n",
    "    else:\n",
    "        train['experience'][i]=len(train['experience'][i])\n",
    "        #print(i)\n",
    "        \n",
    "train['experience'].value_counts()"
   ]
  },
  {
   "cell_type": "code",
   "execution_count": 211,
   "metadata": {},
   "outputs": [
    {
     "data": {
      "text/plain": [
       "0     15125\n",
       "1      1362\n",
       "2       705\n",
       "14      625\n",
       "3       527\n",
       "4       363\n",
       "5       289\n",
       "6       249\n",
       "7       173\n",
       "8       157\n",
       "9       113\n",
       "10       95\n",
       "11       77\n",
       "12       69\n",
       "13       68\n",
       "17        1\n",
       "15        1\n",
       "28        1\n",
       "Name: groups, dtype: int64"
      ]
     },
     "execution_count": 211,
     "metadata": {},
     "output_type": "execute_result"
    }
   ],
   "source": [
    "#conversion number of groups each id belongs because more number of groups profile strength increases groups\n",
    "count=0\n",
    "counter=0\n",
    "for i in range(len(train['groups'])):\n",
    "    if train['groups'][i] == [] :\n",
    "        train['groups'][i]=0\n",
    "        count=count+1\n",
    "    else:\n",
    "        train['groups'][i]=len(train['groups'][i])\n",
    "        #print(i)\n",
    "        \n",
    "train['groups'].value_counts()"
   ]
  },
  {
   "cell_type": "code",
   "execution_count": 212,
   "metadata": {},
   "outputs": [
    {
     "data": {
      "text/plain": [
       "0     17444\n",
       "3       857\n",
       "2       686\n",
       "1       500\n",
       "4       358\n",
       "5       123\n",
       "6        21\n",
       "7         7\n",
       "21        1\n",
       "16        1\n",
       "12        1\n",
       "8         1\n",
       "Name: languages, dtype: int64"
      ]
     },
     "execution_count": 212,
     "metadata": {},
     "output_type": "execute_result"
    }
   ],
   "source": [
    "#conversion to Number of languages each id knows, more languages stronger the profile\n",
    "count=0\n",
    "counter=0\n",
    "for i in range(len(train['languages'])):\n",
    "    if train['languages'][i] == [] :\n",
    "        train['languages'][i]=0\n",
    "        count=count+1\n",
    "    else:\n",
    "        train['languages'][i]=len(train['languages'][i])\n",
    "        #print(i)\n",
    "        \n",
    "train['languages'].value_counts()"
   ]
  },
  {
   "cell_type": "code",
   "execution_count": 213,
   "metadata": {},
   "outputs": [
    {
     "data": {
      "text/plain": [
       "0    19972\n",
       "1       28\n",
       "Name: patents, dtype: int64"
      ]
     },
     "execution_count": 213,
     "metadata": {},
     "output_type": "execute_result"
    }
   ],
   "source": [
    "#patents as categorical variable patent present or not if present profile is stronger \n",
    "count=0\n",
    "counter=0\n",
    "for i in range(len(train['patents'])):\n",
    "    if train['patents'][i] ==[]:\n",
    "        train['patents'][i]=0\n",
    "        count=count+1\n",
    "    else:\n",
    "        train['patents'][i]=1#len(train['organizations'][i])\n",
    "        #print(i)\n",
    "        \n",
    "train['patents'].value_counts()"
   ]
  },
  {
   "cell_type": "code",
   "execution_count": 214,
   "metadata": {},
   "outputs": [
    {
     "data": {
      "text/plain": [
       "0     19353\n",
       "1       330\n",
       "2       136\n",
       "3        78\n",
       "4        34\n",
       "5        24\n",
       "6        16\n",
       "7         8\n",
       "8         6\n",
       "10        4\n",
       "12        3\n",
       "11        3\n",
       "27        2\n",
       "19        1\n",
       "14        1\n",
       "13        1\n",
       "Name: projects, dtype: int64"
      ]
     },
     "execution_count": 214,
     "metadata": {},
     "output_type": "execute_result"
    }
   ],
   "source": [
    "#Projects done or not higher projects greater the profile\n",
    "count=0\n",
    "counter=0\n",
    "for i in range(len(train['projects'])):\n",
    "    if train['projects'][i] == []:\n",
    "        train['projects'][i]=0\n",
    "        count=count+1\n",
    "    else:\n",
    "        train['projects'][i]=len(train['projects'][i])#=1#len(train['organizations'][i])\n",
    "        #print(i)\n",
    "train['projects'].value_counts()"
   ]
  },
  {
   "cell_type": "code",
   "execution_count": 215,
   "metadata": {},
   "outputs": [
    {
     "data": {
      "text/plain": [
       "0    19855\n",
       "1      145\n",
       "Name: publications, dtype: int64"
      ]
     },
     "execution_count": 215,
     "metadata": {},
     "output_type": "execute_result"
    }
   ],
   "source": [
    "#converted to categorical variable 0 if no publication else 1 for publication present\n",
    "train.publications = train.publications.fillna('Unknown')\n",
    "count=0\n",
    "counter=0\n",
    "for i in range(len(train['publications'])):\n",
    "    if train['publications'][i] == [] or train['publications'][i]=='Unknown':\n",
    "        train['publications'][i]=0\n",
    "        count=count+1\n",
    "    else:\n",
    "        train['publications'][i]=1#=1#len(train['organizations'][i])\n",
    "        #print(i)\n",
    "\n",
    "train['publications'].value_counts()"
   ]
  },
  {
   "cell_type": "code",
   "execution_count": 216,
   "metadata": {},
   "outputs": [
    {
     "data": {
      "text/plain": [
       "0    19209\n",
       "2      445\n",
       "1      346\n",
       "Name: recomendations, dtype: int64"
      ]
     },
     "execution_count": 216,
     "metadata": {},
     "output_type": "execute_result"
    }
   ],
   "source": [
    "#Conversion to number of recommendations each id owns\n",
    "count=0\n",
    "counter=0\n",
    "for i in range(len(train['recomendations'])):\n",
    "    if train['recomendations'][i] == []: #or train['publications'][i]=='Unknown':\n",
    "        train['recomendations'][i]=0\n",
    "        count=count+1\n",
    "    else:\n",
    "        train['recomendations'][i]=len(train['recomendations'][i])\n",
    "        #print(i)\n",
    "\n",
    "train['recomendations'].value_counts()"
   ]
  },
  {
   "cell_type": "code",
   "execution_count": 217,
   "metadata": {},
   "outputs": [
    {
     "data": {
      "text/plain": [
       "0     13016\n",
       "11      670\n",
       "1       405\n",
       "13      335\n",
       "12      331\n",
       "10      314\n",
       "5       312\n",
       "6       310\n",
       "9       296\n",
       "16      283\n",
       "8       282\n",
       "14      282\n",
       "2       259\n",
       "15      242\n",
       "3       239\n",
       "17      227\n",
       "4       216\n",
       "18      215\n",
       "19      203\n",
       "21      188\n",
       "20      164\n",
       "22      137\n",
       "23      127\n",
       "24      126\n",
       "25      109\n",
       "26       82\n",
       "51       79\n",
       "27       64\n",
       "28       53\n",
       "29       53\n",
       "31       38\n",
       "32       34\n",
       "30       33\n",
       "33       32\n",
       "37       29\n",
       "34       27\n",
       "41       19\n",
       "35       18\n",
       "42       18\n",
       "40       17\n",
       "39       16\n",
       "50       15\n",
       "45       14\n",
       "47       14\n",
       "38       13\n",
       "43       11\n",
       "48       10\n",
       "36       10\n",
       "49        4\n",
       "44        3\n",
       "46        3\n",
       "54        1\n",
       "7         1\n",
       "75        1\n",
       "Name: skills, dtype: int64"
      ]
     },
     "execution_count": 217,
     "metadata": {},
     "output_type": "execute_result"
    }
   ],
   "source": [
    "#Conversion to Number of skills each id has \n",
    "count=0\n",
    "counter=0\n",
    "for i in range(len(train['skills'])):\n",
    "    if train['skills'][i] == []: #or train['publications'][i]=='Unknown':\n",
    "        train['skills'][i]=0\n",
    "        count=count+1\n",
    "    else:\n",
    "        train['skills'][i]=len(train['skills'][i])\n",
    "        #print(i)\n",
    "\n",
    "train['skills'].value_counts()"
   ]
  },
  {
   "cell_type": "code",
   "execution_count": 218,
   "metadata": {},
   "outputs": [
    {
     "data": {
      "text/plain": [
       "0    19637\n",
       "1      363\n",
       "Name: volunteering, dtype: int64"
      ]
     },
     "execution_count": 218,
     "metadata": {},
     "output_type": "execute_result"
    }
   ],
   "source": [
    "#conversion to categorical 0/1 variable\n",
    "count=0\n",
    "counter=0\n",
    "for i in range(len(train['volunteering'])):\n",
    "    if train['volunteering'][i] == []: #or train['publications'][i]=='Unknown':\n",
    "        train['volunteering'][i]=0\n",
    "        count=count+1\n",
    "    else:\n",
    "        train['volunteering'][i]=1#len(train['skills'][i])\n",
    "        #print(i)\n",
    "\n",
    "train['volunteering'].value_counts()"
   ]
  },
  {
   "cell_type": "code",
   "execution_count": 219,
   "metadata": {},
   "outputs": [
    {
     "data": {
      "text/plain": [
       "0    19801\n",
       "1      199\n",
       "Name: organizations, dtype: int64"
      ]
     },
     "execution_count": 219,
     "metadata": {},
     "output_type": "execute_result"
    }
   ],
   "source": [
    "train.organizations = train.organizations.fillna('Unknown')\n",
    "count=0\n",
    "counter=0\n",
    "for i in range(len(train['organizations'])):\n",
    "    if train['organizations'][i] == [] or train['organizations'][i]=='Unknown':\n",
    "        train['organizations'][i]=0\n",
    "        count=count+1\n",
    "    else:\n",
    "        train['organizations'][i]=1#len(train['skills'][i])\n",
    "        #print(i)\n",
    "\n",
    "train['organizations'].value_counts()"
   ]
  },
  {
   "cell_type": "code",
   "execution_count": 220,
   "metadata": {},
   "outputs": [
    {
     "data": {
      "text/html": [
       "<div>\n",
       "<style scoped>\n",
       "    .dataframe tbody tr th:only-of-type {\n",
       "        vertical-align: middle;\n",
       "    }\n",
       "\n",
       "    .dataframe tbody tr th {\n",
       "        vertical-align: top;\n",
       "    }\n",
       "\n",
       "    .dataframe thead th {\n",
       "        text-align: right;\n",
       "    }\n",
       "</style>\n",
       "<table border=\"1\" class=\"dataframe\">\n",
       "  <thead>\n",
       "    <tr style=\"text-align: right;\">\n",
       "      <th></th>\n",
       "      <th>awards</th>\n",
       "      <th>certifications</th>\n",
       "      <th>courses</th>\n",
       "      <th>designation</th>\n",
       "      <th>education</th>\n",
       "      <th>experience</th>\n",
       "      <th>groups</th>\n",
       "      <th>languages</th>\n",
       "      <th>organizations</th>\n",
       "      <th>patents</th>\n",
       "      <th>projects</th>\n",
       "      <th>publications</th>\n",
       "      <th>recomendations</th>\n",
       "      <th>skills</th>\n",
       "      <th>volunteering</th>\n",
       "    </tr>\n",
       "  </thead>\n",
       "  <tbody>\n",
       "    <tr>\n",
       "      <th>0</th>\n",
       "      <td>0</td>\n",
       "      <td>0</td>\n",
       "      <td>0</td>\n",
       "      <td>1</td>\n",
       "      <td>1</td>\n",
       "      <td>6</td>\n",
       "      <td>14</td>\n",
       "      <td>0</td>\n",
       "      <td>0</td>\n",
       "      <td>0</td>\n",
       "      <td>0</td>\n",
       "      <td>0</td>\n",
       "      <td>1</td>\n",
       "      <td>0</td>\n",
       "      <td>0</td>\n",
       "    </tr>\n",
       "    <tr>\n",
       "      <th>1</th>\n",
       "      <td>0</td>\n",
       "      <td>0</td>\n",
       "      <td>0</td>\n",
       "      <td>1</td>\n",
       "      <td>1</td>\n",
       "      <td>0</td>\n",
       "      <td>0</td>\n",
       "      <td>0</td>\n",
       "      <td>0</td>\n",
       "      <td>0</td>\n",
       "      <td>0</td>\n",
       "      <td>0</td>\n",
       "      <td>0</td>\n",
       "      <td>0</td>\n",
       "      <td>0</td>\n",
       "    </tr>\n",
       "    <tr>\n",
       "      <th>2</th>\n",
       "      <td>0</td>\n",
       "      <td>0</td>\n",
       "      <td>0</td>\n",
       "      <td>0</td>\n",
       "      <td>0</td>\n",
       "      <td>0</td>\n",
       "      <td>0</td>\n",
       "      <td>0</td>\n",
       "      <td>0</td>\n",
       "      <td>0</td>\n",
       "      <td>0</td>\n",
       "      <td>0</td>\n",
       "      <td>0</td>\n",
       "      <td>0</td>\n",
       "      <td>0</td>\n",
       "    </tr>\n",
       "    <tr>\n",
       "      <th>3</th>\n",
       "      <td>0</td>\n",
       "      <td>0</td>\n",
       "      <td>0</td>\n",
       "      <td>0</td>\n",
       "      <td>0</td>\n",
       "      <td>0</td>\n",
       "      <td>0</td>\n",
       "      <td>0</td>\n",
       "      <td>0</td>\n",
       "      <td>0</td>\n",
       "      <td>0</td>\n",
       "      <td>0</td>\n",
       "      <td>0</td>\n",
       "      <td>0</td>\n",
       "      <td>0</td>\n",
       "    </tr>\n",
       "    <tr>\n",
       "      <th>4</th>\n",
       "      <td>0</td>\n",
       "      <td>0</td>\n",
       "      <td>0</td>\n",
       "      <td>0</td>\n",
       "      <td>0</td>\n",
       "      <td>0</td>\n",
       "      <td>0</td>\n",
       "      <td>0</td>\n",
       "      <td>0</td>\n",
       "      <td>0</td>\n",
       "      <td>0</td>\n",
       "      <td>0</td>\n",
       "      <td>0</td>\n",
       "      <td>0</td>\n",
       "      <td>0</td>\n",
       "    </tr>\n",
       "  </tbody>\n",
       "</table>\n",
       "</div>"
      ],
      "text/plain": [
       "  awards certifications courses designation education experience groups  \\\n",
       "0      0              0       0           1         1          6     14   \n",
       "1      0              0       0           1         1          0      0   \n",
       "2      0              0       0           0         0          0      0   \n",
       "3      0              0       0           0         0          0      0   \n",
       "4      0              0       0           0         0          0      0   \n",
       "\n",
       "  languages organizations patents projects publications recomendations skills  \\\n",
       "0         0             0       0        0            0              1      0   \n",
       "1         0             0       0        0            0              0      0   \n",
       "2         0             0       0        0            0              0      0   \n",
       "3         0             0       0        0            0              0      0   \n",
       "4         0             0       0        0            0              0      0   \n",
       "\n",
       "  volunteering  \n",
       "0            0  \n",
       "1            0  \n",
       "2            0  \n",
       "3            0  \n",
       "4            0  "
      ]
     },
     "execution_count": 220,
     "metadata": {},
     "output_type": "execute_result"
    }
   ],
   "source": [
    "#to visualize sample top dataset\n",
    "train.head()"
   ]
  },
  {
   "cell_type": "code",
   "execution_count": 221,
   "metadata": {},
   "outputs": [
    {
     "data": {
      "text/html": [
       "<div>\n",
       "<style scoped>\n",
       "    .dataframe tbody tr th:only-of-type {\n",
       "        vertical-align: middle;\n",
       "    }\n",
       "\n",
       "    .dataframe tbody tr th {\n",
       "        vertical-align: top;\n",
       "    }\n",
       "\n",
       "    .dataframe thead th {\n",
       "        text-align: right;\n",
       "    }\n",
       "</style>\n",
       "<table border=\"1\" class=\"dataframe\">\n",
       "  <thead>\n",
       "    <tr style=\"text-align: right;\">\n",
       "      <th></th>\n",
       "      <th>awards</th>\n",
       "      <th>certifications</th>\n",
       "      <th>courses</th>\n",
       "      <th>designation</th>\n",
       "      <th>education</th>\n",
       "      <th>experience</th>\n",
       "      <th>groups</th>\n",
       "      <th>languages</th>\n",
       "      <th>organizations</th>\n",
       "      <th>patents</th>\n",
       "      <th>projects</th>\n",
       "      <th>publications</th>\n",
       "      <th>recomendations</th>\n",
       "      <th>skills</th>\n",
       "      <th>volunteering</th>\n",
       "    </tr>\n",
       "  </thead>\n",
       "  <tbody>\n",
       "    <tr>\n",
       "      <th>count</th>\n",
       "      <td>20000</td>\n",
       "      <td>20000</td>\n",
       "      <td>20000</td>\n",
       "      <td>20000</td>\n",
       "      <td>20000</td>\n",
       "      <td>20000</td>\n",
       "      <td>20000</td>\n",
       "      <td>20000</td>\n",
       "      <td>20000</td>\n",
       "      <td>20000</td>\n",
       "      <td>20000</td>\n",
       "      <td>20000</td>\n",
       "      <td>20000</td>\n",
       "      <td>20000</td>\n",
       "      <td>20000</td>\n",
       "    </tr>\n",
       "    <tr>\n",
       "      <th>unique</th>\n",
       "      <td>15</td>\n",
       "      <td>2</td>\n",
       "      <td>2</td>\n",
       "      <td>2</td>\n",
       "      <td>2</td>\n",
       "      <td>18</td>\n",
       "      <td>18</td>\n",
       "      <td>12</td>\n",
       "      <td>2</td>\n",
       "      <td>2</td>\n",
       "      <td>16</td>\n",
       "      <td>2</td>\n",
       "      <td>3</td>\n",
       "      <td>54</td>\n",
       "      <td>2</td>\n",
       "    </tr>\n",
       "    <tr>\n",
       "      <th>top</th>\n",
       "      <td>0</td>\n",
       "      <td>0</td>\n",
       "      <td>0</td>\n",
       "      <td>0</td>\n",
       "      <td>0</td>\n",
       "      <td>0</td>\n",
       "      <td>0</td>\n",
       "      <td>0</td>\n",
       "      <td>0</td>\n",
       "      <td>0</td>\n",
       "      <td>0</td>\n",
       "      <td>0</td>\n",
       "      <td>0</td>\n",
       "      <td>0</td>\n",
       "      <td>0</td>\n",
       "    </tr>\n",
       "    <tr>\n",
       "      <th>freq</th>\n",
       "      <td>19674</td>\n",
       "      <td>18969</td>\n",
       "      <td>19760</td>\n",
       "      <td>10205</td>\n",
       "      <td>11801</td>\n",
       "      <td>10083</td>\n",
       "      <td>15125</td>\n",
       "      <td>17444</td>\n",
       "      <td>19801</td>\n",
       "      <td>19972</td>\n",
       "      <td>19353</td>\n",
       "      <td>19855</td>\n",
       "      <td>19209</td>\n",
       "      <td>13016</td>\n",
       "      <td>19637</td>\n",
       "    </tr>\n",
       "  </tbody>\n",
       "</table>\n",
       "</div>"
      ],
      "text/plain": [
       "        awards  certifications  courses  designation  education  experience  \\\n",
       "count    20000           20000    20000        20000      20000       20000   \n",
       "unique      15               2        2            2          2          18   \n",
       "top          0               0        0            0          0           0   \n",
       "freq     19674           18969    19760        10205      11801       10083   \n",
       "\n",
       "        groups  languages  organizations  patents  projects  publications  \\\n",
       "count    20000      20000          20000    20000     20000         20000   \n",
       "unique      18         12              2        2        16             2   \n",
       "top          0          0              0        0         0             0   \n",
       "freq     15125      17444          19801    19972     19353         19855   \n",
       "\n",
       "        recomendations  skills  volunteering  \n",
       "count            20000   20000         20000  \n",
       "unique               3      54             2  \n",
       "top                  0       0             0  \n",
       "freq             19209   13016         19637  "
      ]
     },
     "execution_count": 221,
     "metadata": {},
     "output_type": "execute_result"
    }
   ],
   "source": [
    "#check how many unique elements, frequency present in dataset\n",
    "train.describe()"
   ]
  },
  {
   "cell_type": "code",
   "execution_count": 222,
   "metadata": {},
   "outputs": [
    {
     "data": {
      "image/png": "[encoded data removed]",
      "text/plain": [
       "<Figure size 1584x1080 with 14 Axes>"
      ]
     },
     "metadata": {},
     "output_type": "display_data"
    }
   ],
   "source": [
    "#Visualization of each attribute present in train dataset\n",
    "def plot_dist(col, ax):\n",
    "    if col != 'height':\n",
    "        train[col].value_counts().plot('bar', facecolor='y', ax=ax)\n",
    "    else:\n",
    "        train[col].plot('density', ax=ax, bw_method = 0.15, color='y')\n",
    "        ax.set_xlim(130,200)\n",
    "        ax.set_ylim(0, 0.07)\n",
    "    ax.set_xlabel('{}'.format(col), fontsize=18)\n",
    "    ax.set_title(\"{} \".format(col), fontsize= 18)\n",
    "    return ax\n",
    "\n",
    "f, ax = plt.subplots(2,7, figsize = (22,15))\n",
    "f.tight_layout(h_pad=9, w_pad=2, rect=[0, 0.03, 1, 0.93])\n",
    "cols = ['awards','certifications', 'courses', 'education', 'experience', 'groups', 'languages', 'organizations','patents','projects','publications','recomendations','skills','volunteering']\n",
    "k = 0\n",
    "for i in range(2):\n",
    "    for j in range(7):\n",
    "        plot_dist(cols[k], ax[i][j])\n",
    "        k += 1\n",
    "__ = plt.suptitle(\"Final Distributions of different features\", fontsize= 23)"
   ]
  },
  {
   "cell_type": "code",
   "execution_count": 224,
   "metadata": {},
   "outputs": [],
   "source": [
    "#scaling actually not required as most of the data is categorical and have same range \n",
    "from sklearn.preprocessing import StandardScaler\n",
    "sc_X = StandardScaler()\n",
    "X_train = sc_X.fit_transform(train)"
   ]
  },
  {
   "cell_type": "code",
   "execution_count": 225,
   "metadata": {},
   "outputs": [
    {
     "data": {
      "image/png": "[encoded data removed]",
      "text/plain": [
       "<Figure size 432x288 with 1 Axes>"
      ]
     },
     "metadata": {},
     "output_type": "display_data"
    }
   ],
   "source": [
    "from sklearn.cluster import KMeans\n",
    "wcss = []\n",
    "for i in range(1, 10):\n",
    "    kmeans = KMeans(n_clusters = i, init = 'k-means++', random_state = 42)\n",
    "    kmeans.fit(train)\n",
    "    wcss.append(kmeans.inertia_) #deviation value\n",
    "plt.plot(range(1, 10), wcss)\n",
    "plt.title('The Elbow Method')\n",
    "plt.xlabel('Number of clusters')\n",
    "plt.ylabel('WCSS')\n",
    "plt.show()"
   ]
  },
  {
   "cell_type": "code",
   "execution_count": 226,
   "metadata": {},
   "outputs": [],
   "source": [
    "#On Seeing the graph number of clusters is set to 3 try with 2 also\n",
    "kmeans = KMeans(n_clusters = 3, init = 'k-means++', random_state = 42)\n",
    "y_kmeans = kmeans.fit_predict(train)"
   ]
  },
  {
   "cell_type": "code",
   "execution_count": 228,
   "metadata": {},
   "outputs": [],
   "source": [
    "#For 2D visualization i am USING PCA \n",
    "from sklearn.decomposition import PCA\n",
    "pca=PCA(n_components=2) \n",
    "pca.fit(train) \n",
    "train_pca=pca.transform(train) "
   ]
  },
  {
   "cell_type": "code",
   "execution_count": 229,
   "metadata": {},
   "outputs": [
    {
     "data": {
      "text/plain": [
       "(20000, 2)"
      ]
     },
     "execution_count": 229,
     "metadata": {},
     "output_type": "execute_result"
    }
   ],
   "source": [
    "train_pca.shape"
   ]
  },
  {
   "cell_type": "code",
   "execution_count": 230,
   "metadata": {},
   "outputs": [],
   "source": [
    "pca=PCA(n_components=2) \n",
    "pca.fit(kmeans.cluster_centers_) \n",
    "centroids=pca.transform(kmeans.cluster_centers_) "
   ]
  },
  {
   "cell_type": "code",
   "execution_count": 233,
   "metadata": {},
   "outputs": [
    {
     "data": {
      "image/png": "[encoded data removed]",
      "text/plain": [
       "<Figure size 432x288 with 1 Axes>"
      ]
     },
     "metadata": {},
     "output_type": "display_data"
    }
   ],
   "source": [
    "plt.scatter(train_pca[y_kmeans == 0, 0], train_pca[y_kmeans == 0, 1], s = 100, c = 'red', label = 'Cluster 1')\n",
    "plt.scatter(train_pca[y_kmeans == 1, 0], train_pca[y_kmeans == 1, 1], s = 100, c = 'green', label = 'Cluster 2')\n",
    "plt.scatter(train_pca[y_kmeans == 2, 0], train_pca[y_kmeans == 2, 1], s = 100, c = 'blue', label = 'Cluster 3')\n",
    "plt.scatter(centroids[:, 0], centroids[:, 1], s = 500, c = 'yellow', label = 'Centroids')\n",
    "plt.title('cluster of profile strengths')\n",
    "plt.xlabel('PCA Component1')\n",
    "plt.ylabel('PCA Component2')\n",
    "plt.legend()\n",
    "plt.show()"
   ]
  },
  {
   "cell_type": "code",
   "execution_count": 234,
   "metadata": {},
   "outputs": [],
   "source": [
    "pd.DataFrame(y_kmeans).to_csv('cool.csv')"
   ]
  },
  {
   "cell_type": "code",
   "execution_count": 235,
   "metadata": {},
   "outputs": [
    {
     "name": "stdout",
     "output_type": "stream",
     "text": [
      "The data sample having index 5844 in dataaset belongs to cluster--[0]\n"
     ]
    }
   ],
   "source": [
    "#To predict on new data use:\n",
    "import random\n",
    "number=random.randint(0,20000)\n",
    "cluster1=kmeans.predict([train.iloc[number,:]])\n",
    "print('The data sample having index '+str(number)+' in dataaset belongs to cluster--'+str(cluster1))"
   ]
  },
  {
   "cell_type": "code",
   "execution_count": 2,
   "metadata": {},
   "outputs": [
    {
     "data": {
      "text/plain": [
       "'C:\\\\Users\\\\Tiger Singh'"
      ]
     },
     "execution_count": 2,
     "metadata": {},
     "output_type": "execute_result"
    }
   ],
   "source": [
    "pwd\n"
   ]
  },
  {
   "cell_type": "code",
   "execution_count": null,
   "metadata": {},
   "outputs": [],
   "source": []
  }
 ],
 "metadata": {
  "kernelspec": {
   "display_name": "Python 3",
   "language": "python",
   "name": "python3"
  },
  "language_info": {
   "codemirror_mode": {
    "name": "ipython",
    "version": 3
   },
   "file_extension": ".py",
   "mimetype": "text/x-python",
   "name": "python",
   "nbconvert_exporter": "python",
   "pygments_lexer": "ipython3",
   "version": "3.7.1"
  }
 },
 "nbformat": 4,
 "nbformat_minor": 2
}
